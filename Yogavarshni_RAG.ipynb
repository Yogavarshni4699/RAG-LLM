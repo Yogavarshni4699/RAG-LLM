{
 "cells": [
  {
   "cell_type": "markdown",
   "metadata": {},
   "source": [
    "## Ollama PDF RAG Notebook"
   ]
  },
  {
   "cell_type": "code",
   "execution_count": null,
   "metadata": {},
   "outputs": [
    {
     "name": "stdout",
     "output_type": "stream",
     "text": [
      "Package                                  Version\n",
      "---------------------------------------- -----------\n",
      "aiofiles                                 24.1.0\n",
      "aiohappyeyeballs                         2.4.3\n",
      "aiohttp                                  3.11.8\n",
      "aiosignal                                1.3.1\n",
      "annotated-types                          0.7.0\n",
      "antlr4-python3-runtime                   4.9.3\n",
      "anyio                                    4.6.2.post1\n",
      "appnope                                  0.1.4\n",
      "asgiref                                  3.8.1\n",
      "asttokens                                2.4.1\n",
      "attrs                                    24.2.0\n",
      "backoff                                  2.2.1\n",
      "bcrypt                                   4.2.1\n",
      "beautifulsoup4                           4.12.3\n",
      "build                                    1.2.2.post1\n",
      "cachetools                               5.5.0\n",
      "certifi                                  2024.8.30\n",
      "cffi                                     1.17.1\n",
      "chardet                                  5.2.0\n",
      "charset-normalizer                       3.3.2\n",
      "Chroma                                   0.2.0\n",
      "chroma-hnswlib                           0.7.3\n",
      "chromadb                                 0.4.22\n",
      "click                                    8.1.7\n",
      "coloredlogs                              15.0.1\n",
      "comm                                     0.2.2\n",
      "contourpy                                1.3.0\n",
      "cryptography                             44.0.0\n",
      "cycler                                   0.12.1\n",
      "dataclasses-json                         0.6.7\n",
      "debugpy                                  1.8.6\n",
      "decorator                                5.1.1\n",
      "Deprecated                               1.2.15\n",
      "durationpy                               0.9\n",
      "effdet                                   0.4.1\n",
      "emoji                                    2.14.0\n",
      "et_xmlfile                               2.0.0\n",
      "eval_type_backport                       0.2.0\n",
      "executing                                2.1.0\n",
      "fastapi                                  0.115.5\n",
      "ffmpy                                    0.4.0\n",
      "filelock                                 3.16.1\n",
      "filetype                                 1.2.0\n",
      "flatbuffers                              24.3.25\n",
      "fonttools                                4.54.1\n",
      "frozenlist                               1.5.0\n",
      "fsspec                                   2024.9.0\n",
      "geographiclib                            2.0\n",
      "geopy                                    2.4.1\n",
      "google-api-core                          2.23.0\n",
      "google-auth                              2.36.0\n",
      "google-cloud-vision                      3.8.1\n",
      "googleapis-common-protos                 1.66.0\n",
      "gradio                                   5.7.1\n",
      "gradio_client                            1.5.0\n",
      "grpcio                                   1.68.0\n",
      "grpcio-status                            1.68.0\n",
      "h11                                      0.14.0\n",
      "html5lib                                 1.1\n",
      "httpcore                                 1.0.7\n",
      "httptools                                0.6.4\n",
      "httpx                                    0.27.2\n",
      "httpx-sse                                0.4.0\n",
      "huggingface-hub                          0.26.3\n",
      "humanfriendly                            10.0\n",
      "idna                                     3.10\n",
      "importlib_metadata                       8.5.0\n",
      "importlib_resources                      6.4.5\n",
      "iopath                                   0.1.10\n",
      "ipykernel                                6.29.5\n",
      "ipython                                  8.27.0\n",
      "jedi                                     0.19.1\n",
      "Jinja2                                   3.1.4\n",
      "joblib                                   1.4.2\n",
      "jsonpatch                                1.33\n",
      "jsonpath-python                          1.0.6\n",
      "jsonpointer                              3.0.0\n",
      "jupyter_client                           8.6.3\n",
      "jupyter_core                             5.7.2\n",
      "kiwisolver                               1.4.7\n",
      "kubernetes                               31.0.0\n",
      "langchain                                0.3.9\n",
      "langchain-community                      0.3.8\n",
      "langchain-core                           0.3.21\n",
      "langchain-ollama                         0.2.0\n",
      "langchain-text-splitters                 0.3.2\n",
      "langdetect                               1.0.9\n",
      "langsmith                                0.1.147\n",
      "layoutparser                             0.3.4\n",
      "lxml                                     5.3.0\n",
      "Markdown                                 3.7\n",
      "markdown-it-py                           3.0.0\n",
      "MarkupSafe                               2.1.5\n",
      "marshmallow                              3.23.1\n",
      "matplotlib                               3.9.2\n",
      "matplotlib-inline                        0.1.7\n",
      "mdurl                                    0.1.2\n",
      "mmh3                                     5.0.1\n",
      "monotonic                                1.6\n",
      "mpmath                                   1.3.0\n",
      "multidict                                6.1.0\n",
      "mypy-extensions                          1.0.0\n",
      "nest-asyncio                             1.6.0\n",
      "networkx                                 3.3\n",
      "nltk                                     3.9.1\n",
      "numpy                                    1.26.4\n",
      "oauthlib                                 3.2.2\n",
      "olefile                                  0.47\n",
      "ollama                                   0.4.2\n",
      "omegaconf                                2.3.0\n",
      "onnx                                     1.17.0\n",
      "onnxruntime                              1.20.1\n",
      "opencv-python                            4.10.0.84\n",
      "openpyxl                                 3.1.5\n",
      "opentelemetry-api                        1.28.2\n",
      "opentelemetry-exporter-otlp-proto-common 1.28.2\n",
      "opentelemetry-exporter-otlp-proto-grpc   1.28.2\n",
      "opentelemetry-instrumentation            0.49b2\n",
      "opentelemetry-instrumentation-asgi       0.49b2\n",
      "opentelemetry-instrumentation-fastapi    0.49b2\n",
      "opentelemetry-proto                      1.28.2\n",
      "opentelemetry-sdk                        1.28.2\n",
      "opentelemetry-semantic-conventions       0.49b2\n",
      "opentelemetry-util-http                  0.49b2\n",
      "orjson                                   3.10.12\n",
      "overrides                                7.7.0\n",
      "packaging                                24.1\n",
      "pandas                                   2.2.3\n",
      "parso                                    0.8.4\n",
      "pdf2image                                1.17.0\n",
      "pdfminer.six                             20231228\n",
      "pdfplumber                               0.11.4\n",
      "pexpect                                  4.9.0\n",
      "pi_heif                                  0.20.0\n",
      "pikepdf                                  9.4.2\n",
      "pillow                                   10.4.0\n",
      "pip                                      24.3.1\n",
      "platformdirs                             4.3.6\n",
      "portalocker                              3.0.0\n",
      "posthog                                  3.7.4\n",
      "prompt_toolkit                           3.0.48\n",
      "propcache                                0.2.0\n",
      "proto-plus                               1.25.0\n",
      "protobuf                                 5.29.0\n",
      "psutil                                   6.0.0\n",
      "ptyprocess                               0.7.0\n",
      "pulsar-client                            3.5.0\n",
      "pure_eval                                0.2.3\n",
      "py-cpuinfo                               9.0.0\n",
      "pyasn1                                   0.6.1\n",
      "pyasn1_modules                           0.4.1\n",
      "pycocotools                              2.0.8\n",
      "pycparser                                2.22\n",
      "pydantic                                 2.9.2\n",
      "pydantic_core                            2.23.4\n",
      "pydantic-settings                        2.6.1\n",
      "pydub                                    0.25.1\n",
      "Pygments                                 2.18.0\n",
      "PyMuPDF                                  1.24.14\n",
      "pypandoc                                 1.14\n",
      "pyparsing                                3.1.4\n",
      "pypdf                                    5.1.0\n",
      "pypdfium2                                4.30.0\n",
      "PyPika                                   0.48.9\n",
      "pyproject_hooks                          1.2.0\n",
      "python-dateutil                          2.9.0.post0\n",
      "python-docx                              1.1.2\n",
      "python-dotenv                            1.0.1\n",
      "python-iso639                            2024.10.22\n",
      "python-magic                             0.4.27\n",
      "python-multipart                         0.0.12\n",
      "python-oxmsg                             0.0.1\n",
      "python-pptx                              1.0.2\n",
      "pytz                                     2024.2\n",
      "PyYAML                                   6.0.2\n",
      "pyzmq                                    26.2.0\n",
      "RapidFuzz                                3.10.1\n",
      "regex                                    2024.11.6\n",
      "requests                                 2.32.3\n",
      "requests-oauthlib                        2.0.0\n",
      "requests-toolbelt                        1.0.0\n",
      "rich                                     13.9.4\n",
      "rsa                                      4.9\n",
      "ruff                                     0.8.0\n",
      "safehttpx                                0.1.1\n",
      "safetensors                              0.4.5\n",
      "scikit-learn                             1.5.2\n",
      "scipy                                    1.14.1\n",
      "seaborn                                  0.13.2\n",
      "semantic-version                         2.10.0\n",
      "setuptools                               75.1.0\n",
      "shellingham                              1.5.4\n",
      "six                                      1.16.0\n",
      "sniffio                                  1.3.1\n",
      "soupsieve                                2.6\n",
      "SQLAlchemy                               2.0.35\n",
      "stack-data                               0.6.3\n",
      "starlette                                0.41.3\n",
      "sympy                                    1.13.3\n",
      "tenacity                                 9.0.0\n",
      "threadpoolctl                            3.5.0\n",
      "timm                                     1.0.11\n",
      "tokenizers                               0.20.3\n",
      "tomlkit                                  0.12.0\n",
      "torch                                    2.4.1\n",
      "torchtext                                0.18.0\n",
      "torchvision                              0.19.1\n",
      "tornado                                  6.4.1\n",
      "tqdm                                     4.66.5\n",
      "traitlets                                5.14.3\n",
      "transformers                             4.46.3\n",
      "typer                                    0.14.0\n",
      "typing_extensions                        4.12.2\n",
      "typing-inspect                           0.9.0\n",
      "tzdata                                   2024.2\n",
      "ultralytics                              8.2.102\n",
      "ultralytics-thop                         2.0.8\n",
      "unstructured                             0.16.8\n",
      "unstructured-client                      0.28.1\n",
      "unstructured-inference                   0.8.1\n",
      "unstructured-ingest                      0.3.5\n",
      "unstructured.pytesseract                 0.3.13\n",
      "urllib3                                  2.2.3\n",
      "uvicorn                                  0.32.1\n",
      "uvloop                                   0.21.0\n",
      "watchfiles                               1.0.0\n",
      "wcwidth                                  0.2.13\n",
      "webencodings                             0.5.1\n",
      "websocket-client                         1.8.0\n",
      "websockets                               12.0\n",
      "wrapt                                    1.17.0\n",
      "xlrd                                     2.0.1\n",
      "XlsxWriter                               3.2.0\n",
      "yarl                                     1.18.0\n",
      "zipp                                     3.21.0\n",
      "Note: you may need to restart the kernel to use updated packages.\n"
     ]
    }
   ],
   "source": [
    "pip list"
   ]
  },
  {
   "cell_type": "markdown",
   "metadata": {},
   "source": [
    "### Checking if necessary packages are installed or not "
   ]
  },
  {
   "cell_type": "code",
   "execution_count": 84,
   "metadata": {},
   "outputs": [
    {
     "name": "stdout",
     "output_type": "stream",
     "text": [
      "The following packages are missing: ['langchain_community', 'langchain_text_splitters', 'Pillow']\n"
     ]
    }
   ],
   "source": [
    "import pkg_resources\n",
    "\n",
    "required_packages = [\n",
    "    \"ollama\",\n",
    "    \"gradio\",\n",
    "    \"pdfplumber\",\n",
    "    \"langchain\",\n",
    "    \"langchain-core\",\n",
    "    \"langchain-ollama\",\n",
    "    \"langchain_community\",\n",
    "    \"langchain_text_splitters\",\n",
    "    \"unstructured\",\n",
    "    \"onnx==1.17.0\",\n",
    "    \"protobuf==3.20.3\",\n",
    "    \"chromadb==0.4.22\",\n",
    "    \"Pillow\",\n",
    "    \"numpy\",\n",
    "]\n",
    "\n",
    "installed_packages = {pkg.key for pkg in pkg_resources.working_set}\n",
    "missing_packages = [pkg for pkg in required_packages if pkg.split(\"==\")[0] not in installed_packages]\n",
    "\n",
    "if missing_packages:\n",
    "    print(f\"The following packages are missing: {missing_packages}\")\n",
    "else:\n",
    "    print(\"All required packages are installed!\")\n"
   ]
  },
  {
   "cell_type": "code",
   "execution_count": null,
   "metadata": {},
   "outputs": [
    {
     "name": "stdout",
     "output_type": "stream",
     "text": [
      "Name: unstructured\n",
      "Version: 0.16.8\n",
      "Summary: A library that prepares raw documents for downstream ML tasks.\n",
      "Home-page: https://github.com/Unstructured-IO/unstructured\n",
      "Author: Unstructured Technologies\n",
      "Author-email: devops@unstructuredai.io\n",
      "License: Apache-2.0\n",
      "Location: /Library/Frameworks/Python.framework/Versions/3.12/lib/python3.12/site-packages\n",
      "Requires: backoff, beautifulsoup4, chardet, dataclasses-json, emoji, filetype, html5lib, langdetect, lxml, nltk, numpy, psutil, python-iso639, python-magic, python-oxmsg, rapidfuzz, requests, tqdm, typing-extensions, unstructured-client, wrapt\n",
      "Required-by: \n",
      "Note: you may need to restart the kernel to use updated packages.\n"
     ]
    }
   ],
   "source": [
    "pip show unstructured"
   ]
  },
  {
   "cell_type": "markdown",
   "metadata": {},
   "source": [
    "Ollama is a platform for running local language models (LLMs) on your device, designed for privacy and performance. It allows developers to use fine-tuned LLMs efficiently without relying on external APIs, making it ideal for offline or secure environments."
   ]
  },
  {
   "cell_type": "markdown",
   "metadata": {},
   "source": [
    "### Import Libraries\n"
   ]
  },
  {
   "cell_type": "code",
   "execution_count": 4,
   "metadata": {},
   "outputs": [],
   "source": [
    "# Imports\n",
    "from langchain_community.document_loaders import UnstructuredPDFLoader\n",
    "from langchain_ollama import OllamaEmbeddings\n",
    "from langchain_text_splitters import RecursiveCharacterTextSplitter\n",
    "from langchain_community.vectorstores import Chroma\n",
    "from langchain.prompts import ChatPromptTemplate, PromptTemplate\n",
    "from langchain_core.output_parsers import StrOutputParser\n",
    "from langchain_ollama.chat_models import ChatOllama\n",
    "from langchain_core.runnables import RunnablePassthrough\n",
    "from langchain.retrievers.multi_query import MultiQueryRetriever\n",
    "\n",
    "# Suppress warnings\n",
    "import warnings\n",
    "warnings.filterwarnings('ignore')\n",
    "\n",
    "# Jupyter-specific imports\n",
    "from IPython.display import display, Markdown\n",
    "\n",
    "# Set environment variable for protobuf\n",
    "import os\n",
    "os.environ[\"PROTOCOL_BUFFERS_PYTHON_IMPLEMENTATION\"] = \"python\""
   ]
  },
  {
   "cell_type": "code",
   "execution_count": null,
   "metadata": {},
   "outputs": [],
   "source": [
    "from langchain.document_loaders import UnstructuredPDFLoader"
   ]
  },
  {
   "cell_type": "markdown",
   "metadata": {},
   "source": [
    "## Load PDF"
   ]
  },
  {
   "cell_type": "markdown",
   "metadata": {},
   "source": [
    "This step loads a PDF document using PyMuPDFLoader from LangChain, extracting its text and converting it into manageable chunks for further processing. It ensures the document is ready for tasks like embedding generation or question-answering."
   ]
  },
  {
   "cell_type": "code",
   "execution_count": 2,
   "metadata": {},
   "outputs": [
    {
     "name": "stdout",
     "output_type": "stream",
     "text": [
      "PDF loaded successfully with PyMuPDFLoader: 8 chunks.\n"
     ]
    }
   ],
   "source": [
    "from langchain.document_loaders import PyMuPDFLoader\n",
    "\n",
    "pdf_path = \"/Users/yogavarshniramachandran/Documents/Sem 3/DL/lab2/Part3_knowledge base.pdf\"\n",
    "try:\n",
    "    loader = PyMuPDFLoader(file_path=pdf_path)\n",
    "    data = loader.load()\n",
    "    print(f\"PDF loaded successfully with PyMuPDFLoader: {len(data)} chunks.\")\n",
    "except Exception as e:\n",
    "    print(f\"Failed to load PDF with PyMuPDFLoader: {e}\")"
   ]
  },
  {
   "cell_type": "markdown",
   "metadata": {},
   "source": [
    "## Split text into chunks"
   ]
  },
  {
   "cell_type": "markdown",
   "metadata": {},
   "source": [
    "This step splits the extracted PDF text into chunks of 1000 characters with 200-character overlaps using RecursiveCharacterTextSplitter. The resulting chunks ensure continuity and are ready for embedding and retrieval tasks."
   ]
  },
  {
   "cell_type": "code",
   "execution_count": null,
   "metadata": {},
   "outputs": [
    {
     "name": "stdout",
     "output_type": "stream",
     "text": [
      "Text split into 36 chunks\n"
     ]
    }
   ],
   "source": [
    "# Split text into chunks\n",
    "text_splitter = RecursiveCharacterTextSplitter(chunk_size=1000, chunk_overlap=200)\n",
    "chunks = text_splitter.split_documents(data)\n",
    "print(f\"Text split into {len(chunks)} chunks\")"
   ]
  },
  {
   "cell_type": "markdown",
   "metadata": {},
   "source": [
    "### Create vector database"
   ]
  },
  {
   "cell_type": "markdown",
   "metadata": {},
   "source": [
    "This step checks available models using !ollama list and downloads the nomic-embed-text model with !ollama pull. The model is used for generating text embeddings, ensuring offline and efficient processing."
   ]
  },
  {
   "cell_type": "code",
   "execution_count": null,
   "metadata": {},
   "outputs": [
    {
     "name": "stdout",
     "output_type": "stream",
     "text": [
      "NAME                       ID              SIZE      MODIFIED       \n",
      "nomic-embed-text:latest    0a109f422b47    274 MB    7 seconds ago     \n",
      "llama3.2:latest            a80c4f17acd5    2.0 GB    49 minutes ago    \n"
     ]
    }
   ],
   "source": [
    "\n",
    "!ollama list"
   ]
  },
  {
   "cell_type": "code",
   "execution_count": 92,
   "metadata": {},
   "outputs": [
    {
     "name": "stdout",
     "output_type": "stream",
     "text": [
      "\u001b[?25lpulling manifest ⠋ \u001b[?25h\u001b[?25l\u001b[2K\u001b[1Gpulling manifest ⠙ \u001b[?25h\u001b[?25l\u001b[2K\u001b[1Gpulling manifest ⠹ \u001b[?25h\u001b[?25l\u001b[2K\u001b[1Gpulling manifest ⠸ \u001b[?25h\u001b[?25l\u001b[2K\u001b[1Gpulling manifest ⠼ \u001b[?25h\u001b[?25l\u001b[2K\u001b[1Gpulling manifest \n",
      "pulling 970aa74c0a90... 100% ▕████████████████▏ 274 MB                         \n",
      "pulling c71d239df917... 100% ▕████████████████▏  11 KB                         \n",
      "pulling ce4a164fc046... 100% ▕████████████████▏   17 B                         \n",
      "pulling 31df23ea7daa... 100% ▕████████████████▏  420 B                         \n",
      "verifying sha256 digest \n",
      "writing manifest \n",
      "success \u001b[?25h\n"
     ]
    }
   ],
   "source": [
    "!ollama pull nomic-embed-text\n"
   ]
  },
  {
   "cell_type": "code",
   "execution_count": 6,
   "metadata": {},
   "outputs": [
    {
     "name": "stdout",
     "output_type": "stream",
     "text": [
      "Found existing installation: chromadb 0.4.22\n",
      "Uninstalling chromadb-0.4.22:\n",
      "  Successfully uninstalled chromadb-0.4.22\n",
      "Note: you may need to restart the kernel to use updated packages.\n",
      "Found existing installation: protobuf 5.29.0\n",
      "Uninstalling protobuf-5.29.0:\n",
      "  Successfully uninstalled protobuf-5.29.0\n",
      "Note: you may need to restart the kernel to use updated packages.\n",
      "\u001b[31mERROR: pip's dependency resolver does not currently take into account all the packages that are installed. This behaviour is the source of the following dependency conflicts.\n",
      "opentelemetry-proto 1.28.2 requires protobuf<6.0,>=5.0, but you have protobuf 3.20.3 which is incompatible.\n",
      "grpcio-status 1.68.0 requires protobuf<6.0dev,>=5.26.1, but you have protobuf 3.20.3 which is incompatible.\u001b[0m\u001b[31m\n",
      "\u001b[0mNote: you may need to restart the kernel to use updated packages.\n",
      "Note: you may need to restart the kernel to use updated packages.\n",
      "Note: you may need to restart the kernel to use updated packages.\n"
     ]
    }
   ],
   "source": [
    "# 1. First clean up any existing ChromaDB installations\n",
    "%pip uninstall -y chromadb\n",
    "%pip uninstall -y protobuf\n",
    "\n",
    "# 2. Install specific versions known to work together\n",
    "%pip install -q protobuf==3.20.3\n",
    "%pip install -q chromadb==0.4.22  # Using a stable older version\n",
    "%pip install -q langchain-ollama\n",
    "\n",
    "# 3. Set the environment variable\n",
    "import os\n",
    "os.environ[\"PROTOCOL_BUFFERS_PYTHON_IMPLEMENTATION\"] = \"python\"\n",
    "\n",
    "# 4. Now reimport with the new versions\n",
    "from langchain_ollama import OllamaEmbeddings\n",
    "from langchain_community.vectorstores import Chroma"
   ]
  },
  {
   "cell_type": "markdown",
   "metadata": {},
   "source": [
    "This step creates a vector database using Chroma to store and retrieve vector embeddings of text chunks from the PDF. This database is a key component of a Retrieval-Augmented Generation (RAG) system."
   ]
  },
  {
   "cell_type": "code",
   "execution_count": 7,
   "metadata": {},
   "outputs": [
    {
     "name": "stdout",
     "output_type": "stream",
     "text": [
      "Vector database created successfully\n"
     ]
    }
   ],
   "source": [
    "# Create vector database\n",
    "vector_db = Chroma.from_documents(\n",
    "    documents=chunks,\n",
    "    embedding=OllamaEmbeddings(model=\"nomic-embed-text\"),\n",
    "    collection_name=\"local-rag\"\n",
    ")\n",
    "print(\"Vector database created successfully\")"
   ]
  },
  {
   "cell_type": "markdown",
   "metadata": {},
   "source": [
    "### Set up LLM and Retrieval"
   ]
  },
  {
   "cell_type": "markdown",
   "metadata": {},
   "source": [
    "This step initializes the LLaMA 3.2 language model for use in the RAG system, enabling offline and efficient text generation. The model processes retrieved context to generate precise answers to user queries."
   ]
  },
  {
   "cell_type": "code",
   "execution_count": 8,
   "metadata": {},
   "outputs": [],
   "source": [
    "# Set up LLM and retrieval\n",
    "local_model = \"llama3.2\"  # or whichever model you prefer\n",
    "llm = ChatOllama(model=local_model)"
   ]
  },
  {
   "cell_type": "markdown",
   "metadata": {},
   "source": [
    "The QUERY_PROMPT guides the LLM to generate precise answers using retrieved context. The MultiQueryRetriever enhances retrieval by using the LLM to create multiple query variations and fetch the most relevant text from the vector database."
   ]
  },
  {
   "cell_type": "code",
   "execution_count": 48,
   "metadata": {},
   "outputs": [],
   "source": [
    "QUERY_PROMPT = PromptTemplate(\n",
    "    input_variables=[\"context\", \"question\"],\n",
    "    template=\"\"\"You are an intelligent assistant tasked with answering user questions accurately and concisely using the most relevant sections of the uploaded PDF documents.\n",
    "\n",
    "Use the provided context below to formulate a direct and precise response to the user question.\n",
    "\n",
    "Context: {context}\n",
    "Question: {question}\n",
    "Answer:\n",
    "\"\"\"\n",
    ")\n",
    "\n",
    "\n",
    "\n",
    "# Set up retriever\n",
    "retriever = MultiQueryRetriever.from_llm(\n",
    "    vector_db.as_retriever(), \n",
    "    llm,\n",
    "    prompt=QUERY_PROMPT\n",
    ")"
   ]
  },
  {
   "cell_type": "markdown",
   "metadata": {},
   "source": [
    "### Create chain"
   ]
  },
  {
   "cell_type": "markdown",
   "metadata": {},
   "source": [
    "The RAG chain combines retrieval and generation by fetching relevant context using the retriever and generating accurate answers through the LLM based on the prompt template. The chain ensures the output is cleanly parsed and strictly based on the retrieved context."
   ]
  },
  {
   "cell_type": "code",
   "execution_count": 49,
   "metadata": {},
   "outputs": [],
   "source": [
    "# RAG prompt template\n",
    "template = \"\"\"Answer the question based ONLY on the following context:\n",
    "{context}\n",
    "Question: {question}\n",
    "\"\"\"\n",
    "\n",
    "prompt = ChatPromptTemplate.from_template(template)"
   ]
  },
  {
   "cell_type": "code",
   "execution_count": 50,
   "metadata": {},
   "outputs": [],
   "source": [
    "# Create chain\n",
    "chain = (\n",
    "    {\"context\": retriever, \"question\": RunnablePassthrough()}\n",
    "    | prompt\n",
    "    | llm\n",
    "    | StrOutputParser()\n",
    ")"
   ]
  },
  {
   "cell_type": "markdown",
   "metadata": {},
   "source": [
    "### Chat with PDF"
   ]
  },
  {
   "cell_type": "markdown",
   "metadata": {},
   "source": [
    "This function retrieves the most relevant context from the vector database for a given question and uses the LLM to generate a precise, context-based answer. It ensures valid context retrieval and formats the output for user display."
   ]
  },
  {
   "cell_type": "code",
   "execution_count": 51,
   "metadata": {},
   "outputs": [],
   "source": [
    "# Correct the RAG chain to handle both context and question\n",
    "def chat_with_pdf(question):\n",
    "    \"\"\"\n",
    "    Chat with the PDF using the vector database and LLM.\n",
    "    \"\"\"\n",
    "    # Retrieve context\n",
    "    context = get_relevant_context(question)\n",
    "    \n",
    "    # Ensure context is retrieved\n",
    "    if not context.strip():\n",
    "        display(Markdown(f\"**Question:** {question}\\n\\n**Answer:** No relevant context found in the documents.\"))\n",
    "        return\n",
    "    \n",
    "    # Format the prompt with context and question\n",
    "    formatted_prompt = QUERY_PROMPT.format(context=context, question=question)\n",
    "    \n",
    "    # Generate the answer using the LLM\n",
    "    answer = llm.predict(formatted_prompt)\n",
    "    \n",
    "    # Display the question and answer\n",
    "    display(Markdown(f\"**Question:** {question}\\n\\n**Answer:** {answer}\"))\n"
   ]
  },
  {
   "cell_type": "markdown",
   "metadata": {},
   "source": [
    "### Questions and Answers:"
   ]
  },
  {
   "cell_type": "code",
   "execution_count": null,
   "metadata": {},
   "outputs": [
    {
     "data": {
      "text/markdown": [
       "**Question:** How did Meta’s workforce change by the end of 2023\n",
       "\n",
       "**Answer:** By the end of 2023, Meta's workforce decreased by 22% to 67,317 employees as of December 31, 2023."
      ],
      "text/plain": [
       "<IPython.core.display.Markdown object>"
      ]
     },
     "metadata": {},
     "output_type": "display_data"
    }
   ],
   "source": [
    "# Example 1\n",
    "chat_with_pdf(\"How did Meta’s workforce change by the end of 2023\")"
   ]
  },
  {
   "cell_type": "code",
   "execution_count": 64,
   "metadata": {},
   "outputs": [
    {
     "data": {
      "text/markdown": [
       "**Question:** What is the report quarter, and when did it end?\n",
       "\n",
       "**Answer:** The report quarter is the fourth quarter of 2023, and it ended on December 31, 2023."
      ],
      "text/plain": [
       "<IPython.core.display.Markdown object>"
      ]
     },
     "metadata": {},
     "output_type": "display_data"
    }
   ],
   "source": [
    "# Example 2\n",
    "chat_with_pdf(\"What is the report quarter, and when did it end?\")"
   ]
  },
  {
   "cell_type": "code",
   "execution_count": null,
   "metadata": {},
   "outputs": [
    {
     "data": {
      "text/markdown": [
       "**Question:** What were the key financial highlights this quarter(revenue, gross margin,operating expenses, operating margin, net income, and EPS)?\n",
       "\n",
       "**Answer:** Here are the key financial highlights for this quarter:\n",
       "\n",
       "1. Revenue: $34.5-37 billion (range), with free cash flow of $11.50 billion and $43.01 billion for the fourth quarter and full year 2023, respectively.\n",
       "2. Operating Expenses: $94-99 billion (unchanged from prior outlook).\n",
       "3. Operating Margin: 41%.\n",
       "4. Net Income: $14.017 billion (201% increase) and $39.098 billion (69% increase) for the quarter and full year 2023, respectively.\n",
       "5. Earnings Per Share (EPS): $5.33 (203% increase) and $14.87 (73% increase) for the quarter and full year 2023, respectively."
      ],
      "text/plain": [
       "<IPython.core.display.Markdown object>"
      ]
     },
     "metadata": {},
     "output_type": "display_data"
    }
   ],
   "source": [
    "# Example 3\n",
    "chat_with_pdf(\"What were the key financial highlights this quarter(revenue, gross margin,operating expenses, operating margin, net income, and EPS)?\")"
   ]
  },
  {
   "cell_type": "code",
   "execution_count": null,
   "metadata": {},
   "outputs": [
    {
     "data": {
      "text/markdown": [
       "**Question:** How much did Meta spend on restructuring for the whole year and Q4\n",
       "\n",
       "**Answer:** For the full year 2023, Meta spent $3.45 billion on restructuring charges. For the fourth quarter 2023, Meta spent $1.15 billion on restructuring charges."
      ],
      "text/plain": [
       "<IPython.core.display.Markdown object>"
      ]
     },
     "metadata": {},
     "output_type": "display_data"
    }
   ],
   "source": [
    "# Example 4\n",
    "chat_with_pdf(\"How much did Meta spend on restructuring for the whole year and Q4\")"
   ]
  },
  {
   "cell_type": "code",
   "execution_count": null,
   "metadata": {},
   "outputs": [
    {
     "data": {
      "text/markdown": [
       "**Question:** What happened with Meta’s ad impressions and average price per ad in Q4and for the whole year?\n",
       "\n",
       "**Answer:** For the fourth quarter of 2023, ad impressions delivered across Meta's Family of Apps increased by 21% year-over-year, while the average price per ad increased by 2%. For the full year 2023, ad impressions increased by 28% year-over-year, and the average price per ad decreased by 9%."
      ],
      "text/plain": [
       "<IPython.core.display.Markdown object>"
      ]
     },
     "metadata": {},
     "output_type": "display_data"
    }
   ],
   "source": [
    "# Example 5\n",
    "chat_with_pdf(\"What happened with Meta’s ad impressions and average price per ad in Q4and for the whole year?\")"
   ]
  },
  {
   "cell_type": "code",
   "execution_count": 53,
   "metadata": {},
   "outputs": [
    {
     "data": {
      "text/markdown": [
       "**Question:** What’s the revenue outlook for Q1 2024?\n",
       "\n",
       "**Answer:** The revenue outlook for Q1 2024 is expected to be in the range of $34.5-37 billion, assuming neutral foreign currency exchange rates based on current exchange rates."
      ],
      "text/plain": [
       "<IPython.core.display.Markdown object>"
      ]
     },
     "metadata": {},
     "output_type": "display_data"
    }
   ],
   "source": [
    "# Example 6\n",
    "chat_with_pdf(\"What’s the revenue outlook for Q1 2024?\")"
   ]
  },
  {
   "cell_type": "code",
   "execution_count": 54,
   "metadata": {},
   "outputs": [
    {
     "data": {
      "text/markdown": [
       "**Question:** What were Meta’s total costs and expenses for Q4 and the full year 2023?\n",
       "\n",
       "**Answer:** According to the document, Meta's total costs and expenses were:\n",
       "\n",
       "* For the fourth quarter 2023: $23.73 billion\n",
       "* For the full year 2023: $88.15 billion"
      ],
      "text/plain": [
       "<IPython.core.display.Markdown object>"
      ]
     },
     "metadata": {},
     "output_type": "display_data"
    }
   ],
   "source": [
    "# Example 7\n",
    "chat_with_pdf(\"What were Meta’s total costs and expenses for Q4 and the full year 2023?\")"
   ]
  },
  {
   "cell_type": "code",
   "execution_count": 55,
   "metadata": {},
   "outputs": [
    {
     "data": {
      "text/markdown": [
       "**Question:** How much cash and marketable securities did Meta have on hand as of December 31, 2023?\n",
       "\n",
       "**Answer:** As of December 31, 2023, Meta had $41.862 billion in cash, $23.541 billion in marketable securities, and a total of $65.40 billion in cash, cash equivalents, and marketable securities."
      ],
      "text/plain": [
       "<IPython.core.display.Markdown object>"
      ]
     },
     "metadata": {},
     "output_type": "display_data"
    }
   ],
   "source": [
    "# Example 8\n",
    "chat_with_pdf(\"How much cash and marketable securities did Meta have on hand as of December 31, 2023?\")"
   ]
  },
  {
   "cell_type": "code",
   "execution_count": 56,
   "metadata": {},
   "outputs": [
    {
     "data": {
      "text/markdown": [
       "**Question:** What were the main areas Meta invested in during 2023?\n",
       "\n",
       "**Answer:** During 2023, Meta made significant investments in advancing AI and building the metaverse. According to Mark Zuckerberg, Meta's founder and CEO, the company has made a lot of progress on its vision for advancing AI and the metaverse. This indicates that one of the main areas Meta invested in during 2023 was research and development in artificial intelligence (AI) and the metaverse, with a focus on immersive experiences like augmented and virtual reality."
      ],
      "text/plain": [
       "<IPython.core.display.Markdown object>"
      ]
     },
     "metadata": {},
     "output_type": "display_data"
    }
   ],
   "source": [
    "# Example 9\n",
    "chat_with_pdf(\"What were the main areas Meta invested in during 2023?\")"
   ]
  },
  {
   "cell_type": "code",
   "execution_count": 57,
   "metadata": {},
   "outputs": [
    {
     "data": {
      "text/markdown": [
       "**Question:** How did the Family of Apps and Reality Labs perform in Q4 2023?\n",
       "\n",
       "**Answer:** In Q4 2023, Meta's Family of Apps generated $39,040 million in revenue and $21,030 million in income from operations, representing a year-over-year increase of 6% and 156%, respectively. Meanwhile, Reality Labs recorded $1,071 million in revenue and a loss of $4,646 million in income from operations, compared to $727 million in revenue and a loss of $4,279 million in the same quarter of 2022."
      ],
      "text/plain": [
       "<IPython.core.display.Markdown object>"
      ]
     },
     "metadata": {},
     "output_type": "display_data"
    }
   ],
   "source": [
    "# Example 10\n",
    "chat_with_pdf(\"How did the Family of Apps and Reality Labs perform in Q4 2023?\")"
   ]
  },
  {
   "cell_type": "code",
   "execution_count": 58,
   "metadata": {},
   "outputs": [
    {
     "data": {
      "text/markdown": [
       "**Question:** How much free cash flow did Meta generate in Q4 and the full year 2023?\n",
       "\n",
       "**Answer:** Meta generated $11.50 billion in free cash flow in Q4 2023 and $43.01 billion in the full year 2023."
      ],
      "text/plain": [
       "<IPython.core.display.Markdown object>"
      ]
     },
     "metadata": {},
     "output_type": "display_data"
    }
   ],
   "source": [
    "# Example 11\n",
    "chat_with_pdf(\"How much free cash flow did Meta generate in Q4 and the full year 2023?\")"
   ]
  },
  {
   "cell_type": "code",
   "execution_count": 59,
   "metadata": {},
   "outputs": [
    {
     "data": {
      "text/markdown": [
       "**Question:** Did Meta make any changes to its stock repurchase program or dividends for 2024?\n",
       "\n",
       "**Answer:** Yes, according to the provided context, Meta has initiated a quarterly dividend program, with a cash dividend of $0.50 per share payable on March 26, 2024, to stockholders of record as of February 22, 2024. This marks a change from previous years and demonstrates the company's intention to pay a cash dividend on a quarterly basis, subject to market conditions and approval by its board of directors."
      ],
      "text/plain": [
       "<IPython.core.display.Markdown object>"
      ]
     },
     "metadata": {},
     "output_type": "display_data"
    }
   ],
   "source": [
    "# Example 12\n",
    "chat_with_pdf(\"Did Meta make any changes to its stock repurchase program or dividends for 2024?\")"
   ]
  },
  {
   "cell_type": "code",
   "execution_count": 60,
   "metadata": {},
   "outputs": [
    {
     "data": {
      "text/markdown": [
       "**Question:** What risks did Meta highlight for 2024?\n",
       "\n",
       "**Answer:** Meta highlighted several risks for 2024, including:\n",
       "\n",
       "1. Impact of macroeconomic conditions on business and financial results.\n",
       "2. Legal and regulatory headwinds in the EU and US, particularly with regards to the Federal Trade Commission's attempt to substantially modify Meta's existing consent order.\n",
       "3. Regulatory changes that could significantly impact their business and financial results.\n",
       "\n",
       "Additionally, they mentioned that if they are unsuccessful in contesting the matter, it would have an adverse impact on their business."
      ],
      "text/plain": [
       "<IPython.core.display.Markdown object>"
      ]
     },
     "metadata": {},
     "output_type": "display_data"
    }
   ],
   "source": [
    "# Example 13\n",
    "chat_with_pdf(\"What risks did Meta highlight for 2024?\")"
   ]
  },
  {
   "cell_type": "code",
   "execution_count": 61,
   "metadata": {},
   "outputs": [
    {
     "data": {
      "text/markdown": [
       "**Question:** What drove Meta’s revenue growth in Q4 2023?\n",
       "\n",
       "**Answer:** According to the press release, Meta's revenue grew by 25% in Q4 2023 compared to Q4 2022, reaching $40.111 billion."
      ],
      "text/plain": [
       "<IPython.core.display.Markdown object>"
      ]
     },
     "metadata": {},
     "output_type": "display_data"
    }
   ],
   "source": [
    "# Example 14\n",
    "chat_with_pdf(\"What drove Meta’s revenue growth in Q4 2023?\")"
   ]
  },
  {
   "cell_type": "code",
   "execution_count": 62,
   "metadata": {},
   "outputs": [
    {
     "data": {
      "text/markdown": [
       "**Question:** How did Reality Labs perform throughout 2023, and what’s Meta’s plan for 2024\n",
       "\n",
       "**Answer:** According to Meta's fourth quarter and full year 2023 financial highlights, Reality Labs is expected to incur operating losses that increase meaningfully year-over-year due to ongoing product development efforts in augmented reality/virtual reality and investments to further scale the ecosystem. However, no detailed performance metrics are provided for Reality Labs in the given release."
      ],
      "text/plain": [
       "<IPython.core.display.Markdown object>"
      ]
     },
     "metadata": {},
     "output_type": "display_data"
    }
   ],
   "source": [
    "# Example 15\n",
    "chat_with_pdf(\"How did Reality Labs perform throughout 2023, and what’s Meta’s plan for 2024\")"
   ]
  },
  {
   "cell_type": "markdown",
   "metadata": {},
   "source": [
    "### Clean up (optional)"
   ]
  },
  {
   "cell_type": "code",
   "execution_count": 93,
   "metadata": {},
   "outputs": [],
   "source": [
    "# Optional: Clean up when done \n",
    "#vector_db.delete_collection()\n",
    "#print(\"Vector database deleted successfully\")"
   ]
  },
  {
   "cell_type": "markdown",
   "metadata": {},
   "source": [
    "### ROUGE Score"
   ]
  },
  {
   "cell_type": "code",
   "execution_count": 2,
   "metadata": {},
   "outputs": [
    {
     "name": "stdout",
     "output_type": "stream",
     "text": [
      "ROUGE-1: Score(precision=0.5416666666666666, recall=0.4482758620689655, fmeasure=0.49056603773584906)\n",
      "ROUGE-2: Score(precision=0.2608695652173913, recall=0.21428571428571427, fmeasure=0.23529411764705882)\n",
      "ROUGE-L: Score(precision=0.4166666666666667, recall=0.3448275862068966, fmeasure=0.37735849056603776)\n"
     ]
    }
   ],
   "source": [
    "from rouge_score import rouge_scorer\n",
    "\n",
    "# Actual and generated answers\n",
    "actual_answer = \"\"\"By the end of 2023, Meta had 67,317 employees. In 2022, Meta\n",
    "had 87,314 employees, so Meta had a 22.9% decrease in 2023 compared to\n",
    "2022.\"\"\"\n",
    "\n",
    "generated_answer = \"\"\"By the end of 2023, Meta's headcount decreased to 67,317 as of December 31, 2023, a decrease of 22% year-over-year.\"\"\"\n",
    "\n",
    "# Initialize the ROUGE scorer\n",
    "scorer = rouge_scorer.RougeScorer(['rouge1', 'rouge2', 'rougeL'], use_stemmer=True)\n",
    "\n",
    "# Compute ROUGE scores\n",
    "scores = scorer.score(actual_answer, generated_answer)\n",
    "\n",
    "# Display results\n",
    "print(\"ROUGE-1:\", scores['rouge1'])\n",
    "print(\"ROUGE-2:\", scores['rouge2'])\n",
    "print(\"ROUGE-L:\", scores['rougeL'])\n"
   ]
  },
  {
   "cell_type": "markdown",
   "metadata": {},
   "source": [
    "The ROUGE scores indicate moderate overlap between the actual and generated answers. ROUGE-1 (49.06% F1) shows decent word-level matching, while ROUGE-2 (23.53% F1) highlights differences in phrasing. ROUGE-L (37.74% F1) reflects some structural similarity but leaves room for improvement in fluency and context accuracy."
   ]
  },
  {
   "cell_type": "code",
   "execution_count": 96,
   "metadata": {},
   "outputs": [
    {
     "name": "stdout",
     "output_type": "stream",
     "text": [
      "ROUGE-1: Score(precision=0.875, recall=0.875, fmeasure=0.875)\n",
      "ROUGE-2: Score(precision=0.8, recall=0.8, fmeasure=0.8000000000000002)\n",
      "ROUGE-L: Score(precision=0.875, recall=0.875, fmeasure=0.875)\n"
     ]
    }
   ],
   "source": [
    "# Actual and generated answers\n",
    "actual_answer = \"\"\"The reported quarter is the fourth quarter of 2023, The quarter\n",
    "ended on December 31, 2023.\"\"\"\n",
    "\n",
    "generated_answer = \"\"\"The report quarter is the fourth quarter of 2023, and it ended on December 31, 2023.\"\"\"\n",
    "\n",
    "# Initialize the ROUGE scorer\n",
    "scorer = rouge_scorer.RougeScorer(['rouge1', 'rouge2', 'rougeL'], use_stemmer=True)\n",
    "\n",
    "# Compute ROUGE scores\n",
    "scores = scorer.score(actual_answer, generated_answer)\n",
    "\n",
    "# Display results\n",
    "print(\"ROUGE-1:\", scores['rouge1'])\n",
    "print(\"ROUGE-2:\", scores['rouge2'])\n",
    "print(\"ROUGE-L:\", scores['rougeL'])\n"
   ]
  },
  {
   "cell_type": "markdown",
   "metadata": {},
   "source": [
    "Reference: https://github.com/tonykipkemboi/ollama_pdf_rag/tree/main"
   ]
  },
  {
   "cell_type": "markdown",
   "metadata": {},
   "source": [
    "The ROUGE scores show excellent overlap between the actual and generated answers. ROUGE-1 and ROUGE-L (87.5% F1) demonstrate near-perfect word-level and structural similarity, while ROUGE-2 (80% F1) reflects strong bigram-level matching, indicating high accuracy and fluency in the generated answer."
   ]
  },
  {
   "cell_type": "markdown",
   "metadata": {},
   "source": []
  }
 ],
 "metadata": {
  "kernelspec": {
   "display_name": "Python 3",
   "language": "python",
   "name": "python3"
  },
  "language_info": {
   "codemirror_mode": {
    "name": "ipython",
    "version": 3
   },
   "file_extension": ".py",
   "mimetype": "text/x-python",
   "name": "python",
   "nbconvert_exporter": "python",
   "pygments_lexer": "ipython3",
   "version": "3.12.1"
  }
 },
 "nbformat": 4,
 "nbformat_minor": 2
}
